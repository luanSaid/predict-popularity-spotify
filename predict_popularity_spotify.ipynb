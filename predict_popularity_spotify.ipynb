{
  "nbformat": 4,
  "nbformat_minor": 0,
  "metadata": {
    "colab": {
      "name": "predict-popularity-spotify.ipynb",
      "provenance": [],
      "collapsed_sections": [
        "eEOJgqSp10Qp",
        "Y0kEIn9YwK0r",
        "2E5-9HC2wSOS",
        "WM0r0JxewaJ3",
        "i3nUa-_C2nfA"
      ],
      "toc_visible": true,
      "mount_file_id": "1wLYRGSVLQWkfBAtFNJK7om5d6qUBEGYF",
      "authorship_tag": "ABX9TyMx7mdCJ7LkuopOeeYsCBhQ",
      "include_colab_link": true
    },
    "kernelspec": {
      "name": "python3",
      "display_name": "Python 3"
    },
    "language_info": {
      "name": "python"
    }
  },
  "cells": [
    {
      "cell_type": "markdown",
      "metadata": {
        "id": "view-in-github",
        "colab_type": "text"
      },
      "source": [
        "<a href=\"https://colab.research.google.com/github/luanSaid/predict-popularity-spotify/blob/main/predict_popularity_spotify.ipynb\" target=\"_parent\"><img src=\"https://colab.research.google.com/assets/colab-badge.svg\" alt=\"Open In Colab\"/></a>"
      ]
    },
    {
      "cell_type": "markdown",
      "metadata": {
        "id": "V5Ag1iqx08_h"
      },
      "source": [
        "# Trabalho de Aprendizado de Máquina\n",
        "## Nome: Luan Said Meira\n",
        "## Matrícula: 20103533\n",
        "\n",
        "## Título do Trabalho: Predição da Popularidade de músicas no Spotify\n"
      ]
    },
    {
      "cell_type": "markdown",
      "metadata": {
        "id": "IScXfVFRjX2N"
      },
      "source": [
        "## Definição de escopo do projeto\n",
        "\n",
        "### Objetivo\n",
        "Nesta tarefa o objetivo é construir os modelos preditivos de regressão para a predição de popularidade de músicas. Os dados a serem utilizados foram extraídos do Spotify. Abaixo seguem as definições do que significa cada uma das variáveis escolhidas para compor as variáveis independentes:\n",
        "\n",
        "\n",
        "* year: Ano de lançamento\n",
        "* acousticness: Entre 0 e 1, quanto a música é acústica.\n",
        "* danceability: Entre 0 e 1, quanto a música é dançável.\n",
        "* energy: Entre 0 e 1, quanto a música é energética.\n",
        "* explicit: 1 se a música contém letra com conteúdo explícito, 0 caso contrário.\n",
        "* instrumentalness: Entre 0 e 1, quão instrumental é a música.\n",
        "* key: Tom da música, mapeado aqui.\n",
        "* liveness: Entre 0 e 1, quão “Ao vivo” é a música\n",
        "* loudness: O quanto a música é volumosa. O valor usualmente varia entre -60 e 0, representando a quantidade de decibéis da música.\n",
        "* mode: 1 se a música é em tom maior, 0 se em tom menor. Popularmente, as músicas em tom maior são consideradas músicas felizes, enquanto as em tom menor são consideradas mais tristes.\n",
        "* speechiness: Entre 0 e 1, quanto a música é vocalizada/falada.\n",
        "* tempo: Tempo da música em quantidades de Batidas por Minuto (BPM)\n",
        "* valence: Entre 0 e 1, descreve a positividade da música, com valores altos para músicas positivas (felizes, alegres, eufóricas, etc) e valores baixos para músicas negativas (tristes, com raiva, etc)\n",
        "* **popularity: Entre 0 e 100, popularidade da música. Neste conjunto, esta é a variável alvo.**\n",
        "\n",
        "\n",
        "### Aprendizado Supervisionado\n",
        "A característica básica de sistemas de aprendizado supervisionado é que os dados que utilizamos para treiná-los contém a resposta desejada, isto é, contém a variável dependente resultante das variáveis independentes observadas. Nesse caso, dizemos que os dados são anotados com as respostas ou classes a serem previstas.\n",
        "\n",
        "\n",
        "### Problemas de Regressão\n",
        "Os problemas de regressão existem quando precisamos prever um valor numérico específico. Este valor pode ser o preço de um produto, o peso ou altura de uma pessoa, a metragem de uma casa, e assim por diante. Nestas situações, o modelo poderá apresentar como resposta qualquer valor. Por exemplo, você pode apresentar produtos e seus preços para que o algoritmo crie o modelo, e ainda que nestes produtos não exista nenhum preço superior a R$ 100,00 o modelo poderá realizar previsões de preços superiores a este valor.\n",
        "\n",
        "### Bootstrap\n",
        "\n",
        "Uma distribuição de amostragem descreve a probabilidade de se obter todos os valores possíveis de uma estatística em uma amostra aleatória de uma população; em outras palavras, qual proporção de todas as amostras aleatórias desse tamanho fornecerão esse valor. Bootstrapping é um método que estima a distribuição de amostragem que coleta várias amostras com reposição de uma amostra aleatória única. Essas amostras repetidas são chamadas reamostras. Cada reamostra é do mesmo tamanho da amostra original.\n",
        "\n",
        "### Hipóteses\n",
        "\n",
        "Com as definições acima, inferiu-se que o melhor algoritmo para prever a popularidade das músicas do Spotify seria o Random Forest Regressor, no qual é um problema de regressão e dispõe de dados para aprendizado supervisionado. \n"
      ]
    },
    {
      "cell_type": "markdown",
      "metadata": {
        "id": "uiVuuRl_1pdj"
      },
      "source": [
        "## Implementação do modelo\n"
      ]
    },
    {
      "cell_type": "markdown",
      "metadata": {
        "id": "eEOJgqSp10Qp"
      },
      "source": [
        "#### Read data"
      ]
    },
    {
      "cell_type": "code",
      "metadata": {
        "id": "buQvemVioDW_"
      },
      "source": [
        "import numpy as np\n",
        "import pandas as pd\n",
        "\n",
        "df = pd.read_csv('/content/drive/MyDrive/Faculdade/Ciência da Informação/2020.2/Introdução a Machine Learning/Trabalho - Spotify Regression /train.csv')"
      ],
      "execution_count": null,
      "outputs": []
    },
    {
      "cell_type": "markdown",
      "metadata": {
        "id": "Y0kEIn9YwK0r"
      },
      "source": [
        "#### Choose Variables Dependents"
      ]
    },
    {
      "cell_type": "code",
      "metadata": {
        "id": "hxPkO-S0tvCa"
      },
      "source": [
        "x = df[['year','danceability', 'acousticness', 'energy','explicit', 'liveness', 'loudness', 'mode', 'speechiness', 'valence']]\n",
        "y = df['popularity']"
      ],
      "execution_count": null,
      "outputs": []
    },
    {
      "cell_type": "markdown",
      "metadata": {
        "id": "rnGiHl5P0cyI"
      },
      "source": [
        "#### Split dataset"
      ]
    },
    {
      "cell_type": "code",
      "metadata": {
        "id": "uR5l1PzQ0cH3"
      },
      "source": [
        "from sklearn.preprocessing import StandardScaler\n",
        "from sklearn.model_selection import train_test_split\n",
        "\n",
        "x_train,x_test, y_train, y_test = train_test_split(x.values,y.values, test_size=0.3, random_state = 0)"
      ],
      "execution_count": null,
      "outputs": []
    },
    {
      "cell_type": "markdown",
      "metadata": {
        "id": "2E5-9HC2wSOS"
      },
      "source": [
        "#### Normalize data"
      ]
    },
    {
      "cell_type": "code",
      "metadata": {
        "id": "n062ENqcwYAG"
      },
      "source": [
        "from sklearn.preprocessing import StandardScaler\n",
        "\n",
        "sc = StandardScaler()\n",
        "\n",
        "x_train = sc.fit_transform(x_train)\n",
        "x_test = sc.transform(x_test)"
      ],
      "execution_count": null,
      "outputs": []
    },
    {
      "cell_type": "markdown",
      "metadata": {
        "id": "WM0r0JxewaJ3"
      },
      "source": [
        "#### Random Forest Regressor"
      ]
    },
    {
      "cell_type": "code",
      "metadata": {
        "id": "SYXLIIaNwifW",
        "colab": {
          "base_uri": "https://localhost:8080/"
        },
        "outputId": "89ae3774-011e-46d7-f178-4676fac65fa7"
      },
      "source": [
        "from sklearn.ensemble import RandomForestRegressor\n",
        "\n",
        "modelo = RandomForestRegressor(max_depth=20, random_state=5, max_features='sqrt', criterion='mae', n_estimators=15)\n",
        "modelo.fit(x_train, y_train)"
      ],
      "execution_count": null,
      "outputs": [
        {
          "output_type": "execute_result",
          "data": {
            "text/plain": [
              "RandomForestRegressor(bootstrap=True, ccp_alpha=0.0, criterion='mae',\n",
              "                      max_depth=20, max_features='sqrt', max_leaf_nodes=None,\n",
              "                      max_samples=None, min_impurity_decrease=0.0,\n",
              "                      min_impurity_split=None, min_samples_leaf=1,\n",
              "                      min_samples_split=2, min_weight_fraction_leaf=0.0,\n",
              "                      n_estimators=15, n_jobs=None, oob_score=False,\n",
              "                      random_state=5, verbose=0, warm_start=False)"
            ]
          },
          "metadata": {
            "tags": []
          },
          "execution_count": 11
        }
      ]
    },
    {
      "cell_type": "code",
      "metadata": {
        "id": "bsSW22uJwvIs"
      },
      "source": [
        "y_pred = modelo.predict(x_test)"
      ],
      "execution_count": null,
      "outputs": []
    },
    {
      "cell_type": "markdown",
      "metadata": {
        "id": "Irv86eWmRT5Q"
      },
      "source": [
        "#### Data Analyses\n",
        "\n",
        "Comparando os 50 primeiros resultados da predição com o valor *verdadeiro* de y "
      ]
    },
    {
      "cell_type": "code",
      "metadata": {
        "colab": {
          "base_uri": "https://localhost:8080/",
          "height": 979
        },
        "id": "XiWISMU0pvi9",
        "outputId": "c019eea0-7668-4876-c67b-583e07fc816e"
      },
      "source": [
        "data = pd.DataFrame()\n",
        "data\n",
        "data['Predicted'] =  y_pred.astype(int)\n",
        "data['Popularity'] = y_test\n",
        "\n",
        "data.head(30)"
      ],
      "execution_count": null,
      "outputs": [
        {
          "output_type": "execute_result",
          "data": {
            "text/html": [
              "<div>\n",
              "<style scoped>\n",
              "    .dataframe tbody tr th:only-of-type {\n",
              "        vertical-align: middle;\n",
              "    }\n",
              "\n",
              "    .dataframe tbody tr th {\n",
              "        vertical-align: top;\n",
              "    }\n",
              "\n",
              "    .dataframe thead th {\n",
              "        text-align: right;\n",
              "    }\n",
              "</style>\n",
              "<table border=\"1\" class=\"dataframe\">\n",
              "  <thead>\n",
              "    <tr style=\"text-align: right;\">\n",
              "      <th></th>\n",
              "      <th>Predicted</th>\n",
              "      <th>Popularity</th>\n",
              "    </tr>\n",
              "  </thead>\n",
              "  <tbody>\n",
              "    <tr>\n",
              "      <th>0</th>\n",
              "      <td>48</td>\n",
              "      <td>69</td>\n",
              "    </tr>\n",
              "    <tr>\n",
              "      <th>1</th>\n",
              "      <td>8</td>\n",
              "      <td>20</td>\n",
              "    </tr>\n",
              "    <tr>\n",
              "      <th>2</th>\n",
              "      <td>1</td>\n",
              "      <td>15</td>\n",
              "    </tr>\n",
              "    <tr>\n",
              "      <th>3</th>\n",
              "      <td>19</td>\n",
              "      <td>0</td>\n",
              "    </tr>\n",
              "    <tr>\n",
              "      <th>4</th>\n",
              "      <td>19</td>\n",
              "      <td>8</td>\n",
              "    </tr>\n",
              "    <tr>\n",
              "      <th>5</th>\n",
              "      <td>33</td>\n",
              "      <td>28</td>\n",
              "    </tr>\n",
              "    <tr>\n",
              "      <th>6</th>\n",
              "      <td>28</td>\n",
              "      <td>65</td>\n",
              "    </tr>\n",
              "    <tr>\n",
              "      <th>7</th>\n",
              "      <td>40</td>\n",
              "      <td>36</td>\n",
              "    </tr>\n",
              "    <tr>\n",
              "      <th>8</th>\n",
              "      <td>0</td>\n",
              "      <td>0</td>\n",
              "    </tr>\n",
              "    <tr>\n",
              "      <th>9</th>\n",
              "      <td>32</td>\n",
              "      <td>29</td>\n",
              "    </tr>\n",
              "    <tr>\n",
              "      <th>10</th>\n",
              "      <td>59</td>\n",
              "      <td>77</td>\n",
              "    </tr>\n",
              "    <tr>\n",
              "      <th>11</th>\n",
              "      <td>0</td>\n",
              "      <td>0</td>\n",
              "    </tr>\n",
              "    <tr>\n",
              "      <th>12</th>\n",
              "      <td>33</td>\n",
              "      <td>20</td>\n",
              "    </tr>\n",
              "    <tr>\n",
              "      <th>13</th>\n",
              "      <td>8</td>\n",
              "      <td>5</td>\n",
              "    </tr>\n",
              "    <tr>\n",
              "      <th>14</th>\n",
              "      <td>40</td>\n",
              "      <td>43</td>\n",
              "    </tr>\n",
              "    <tr>\n",
              "      <th>15</th>\n",
              "      <td>0</td>\n",
              "      <td>0</td>\n",
              "    </tr>\n",
              "    <tr>\n",
              "      <th>16</th>\n",
              "      <td>49</td>\n",
              "      <td>67</td>\n",
              "    </tr>\n",
              "    <tr>\n",
              "      <th>17</th>\n",
              "      <td>0</td>\n",
              "      <td>0</td>\n",
              "    </tr>\n",
              "    <tr>\n",
              "      <th>18</th>\n",
              "      <td>0</td>\n",
              "      <td>0</td>\n",
              "    </tr>\n",
              "    <tr>\n",
              "      <th>19</th>\n",
              "      <td>28</td>\n",
              "      <td>38</td>\n",
              "    </tr>\n",
              "    <tr>\n",
              "      <th>20</th>\n",
              "      <td>33</td>\n",
              "      <td>31</td>\n",
              "    </tr>\n",
              "    <tr>\n",
              "      <th>21</th>\n",
              "      <td>30</td>\n",
              "      <td>22</td>\n",
              "    </tr>\n",
              "    <tr>\n",
              "      <th>22</th>\n",
              "      <td>0</td>\n",
              "      <td>0</td>\n",
              "    </tr>\n",
              "    <tr>\n",
              "      <th>23</th>\n",
              "      <td>18</td>\n",
              "      <td>16</td>\n",
              "    </tr>\n",
              "    <tr>\n",
              "      <th>24</th>\n",
              "      <td>33</td>\n",
              "      <td>34</td>\n",
              "    </tr>\n",
              "    <tr>\n",
              "      <th>25</th>\n",
              "      <td>34</td>\n",
              "      <td>38</td>\n",
              "    </tr>\n",
              "    <tr>\n",
              "      <th>26</th>\n",
              "      <td>0</td>\n",
              "      <td>0</td>\n",
              "    </tr>\n",
              "    <tr>\n",
              "      <th>27</th>\n",
              "      <td>18</td>\n",
              "      <td>23</td>\n",
              "    </tr>\n",
              "    <tr>\n",
              "      <th>28</th>\n",
              "      <td>57</td>\n",
              "      <td>69</td>\n",
              "    </tr>\n",
              "    <tr>\n",
              "      <th>29</th>\n",
              "      <td>0</td>\n",
              "      <td>5</td>\n",
              "    </tr>\n",
              "  </tbody>\n",
              "</table>\n",
              "</div>"
            ],
            "text/plain": [
              "    Predicted  Popularity\n",
              "0          48          69\n",
              "1           8          20\n",
              "2           1          15\n",
              "3          19           0\n",
              "4          19           8\n",
              "5          33          28\n",
              "6          28          65\n",
              "7          40          36\n",
              "8           0           0\n",
              "9          32          29\n",
              "10         59          77\n",
              "11          0           0\n",
              "12         33          20\n",
              "13          8           5\n",
              "14         40          43\n",
              "15          0           0\n",
              "16         49          67\n",
              "17          0           0\n",
              "18          0           0\n",
              "19         28          38\n",
              "20         33          31\n",
              "21         30          22\n",
              "22          0           0\n",
              "23         18          16\n",
              "24         33          34\n",
              "25         34          38\n",
              "26          0           0\n",
              "27         18          23\n",
              "28         57          69\n",
              "29          0           5"
            ]
          },
          "metadata": {
            "tags": []
          },
          "execution_count": 24
        }
      ]
    },
    {
      "cell_type": "markdown",
      "metadata": {
        "id": "e0i6QUfVyYHw"
      },
      "source": [
        "#### R2 Score"
      ]
    },
    {
      "cell_type": "code",
      "metadata": {
        "id": "wLv1C_1DyaVO",
        "colab": {
          "base_uri": "https://localhost:8080/"
        },
        "outputId": "698ed34d-5eee-4b5c-f423-c7f25c607f1f"
      },
      "source": [
        "from sklearn.metrics import r2_score\n",
        "print(f'Final R2 Score: {r2_score(y_test, y_pred):.3f}')"
      ],
      "execution_count": null,
      "outputs": [
        {
          "output_type": "stream",
          "text": [
            "Final R2 Score: 0.628\n"
          ],
          "name": "stdout"
        }
      ]
    },
    {
      "cell_type": "markdown",
      "metadata": {
        "id": "slIqfUPke9Hg"
      },
      "source": [
        "#### Tuning CSV"
      ]
    },
    {
      "cell_type": "markdown",
      "metadata": {
        "id": "vuxi8LwgQzeQ"
      },
      "source": [
        "Abaixo segue o código que utilizei para tentar encontrar os melhores parametros (auxílio no processo de Tuning do Modelo)"
      ]
    },
    {
      "cell_type": "code",
      "metadata": {
        "colab": {
          "base_uri": "https://localhost:8080/"
        },
        "id": "E8ThU6age8Vs",
        "outputId": "906f4d13-05ae-4782-c61c-2bb55900b3dc"
      },
      "source": [
        "import numpy as np\n",
        "from sklearn.datasets import load_boston\n",
        "import pandas as pd\n",
        "from sklearn.model_selection import train_test_split\n",
        "from sklearn.metrics import mean_absolute_error, mean_squared_error\n",
        "import matplotlib.pyplot as plt\n",
        "from sklearn.ensemble import RandomForestRegressor\n",
        "\n",
        "df_train = pd.read_csv('/content/drive/MyDrive/Faculdade/Ciência da Informação/2020.2/Introdução a Machine Learning/Trabalho - Spotify Regression /train.csv')\n",
        "\n",
        "SEED = 30\n",
        "\n",
        "random_forest = RandomForestRegressor(random_state = SEED)\n",
        "\n",
        "X = df_train[['danceability', 'acousticness', 'energy','explicit', 'liveness', 'loudness', 'mode', 'speechiness', 'valence']]\n",
        "y = df_train['popularity']\n",
        "\n",
        "from sklearn.model_selection import train_test_split\n",
        "\n",
        "X_train, X_test, y_train, y_test = train_test_split(X, y, test_size=0.2, random_state=SEED)\n",
        "\n",
        "random_forest.fit(X_train, y_train)\n",
        "y_pred = random_forest.predict(X_test)\n",
        "\n",
        "print('MAE: ', mean_absolute_error(y_test, y_pred))\n",
        "print('MSE: ', mean_squared_error(y_test, y_pred))\n",
        "\n",
        "'''\n",
        "MAE:  12.422671021610947\n",
        "MSE:  271.66249796289014\n",
        "'''\n",
        "\n",
        "from sklearn.model_selection import GridSearchCV\n",
        "random_forest_tuning = RandomForestRegressor(random_state = SEED)\n",
        "\n",
        "param_grid = { \n",
        "    'max_features': ['auto', 'sqrt', 'log2'],\n",
        "    'max_depth' : [8, 20, 35, 50]\n",
        "}\n",
        "\n",
        "\n",
        "'''\n",
        "    'n_estimators': [50, 75, 200, 400],\n",
        "    'criterion' :['mse', 'mae'],\n",
        "    'max_features': ['auto', 'sqrt', 'log2'],\n",
        "    'max_depth' : [8, 20, 35, 50],\n",
        "'''\n",
        "\n",
        "\n",
        "GSCV = GridSearchCV(estimator=random_forest_tuning, param_grid=param_grid, cv=5)\n",
        "GSCV.fit(X_train, y_train)\n",
        "\n",
        "print(GSCV.best_params_)\n",
        "# Best params: {'max_depth': 50, 'max_features': 'sqrt', 'criterion': 'mae', }\n",
        "\n"
      ],
      "execution_count": null,
      "outputs": [
        {
          "output_type": "stream",
          "text": [
            "MAE:  12.422671021610947\n",
            "MSE:  271.66249796289014\n",
            "{'max_depth': 50, 'max_features': 'sqrt'}\n"
          ],
          "name": "stdout"
        }
      ]
    },
    {
      "cell_type": "markdown",
      "metadata": {
        "id": "i3nUa-_C2nfA"
      },
      "source": [
        "#### Referências"
      ]
    },
    {
      "cell_type": "markdown",
      "metadata": {
        "id": "xQ4sn2w1gGcC"
      },
      "source": [
        "* Link Kaggle Code: https://www.kaggle.com/luansaid/spotify-regression/edit\n",
        "* Link Competetion: https://www.kaggle.com/c/spotify-popularity-prediction/submissions\n",
        "* Link Variáveis e correlações: http://www.dpi.ufv.br/~peternelli/inf162.www.16032004/materiais/CAPITULO9.pdf"
      ]
    }
  ]
}